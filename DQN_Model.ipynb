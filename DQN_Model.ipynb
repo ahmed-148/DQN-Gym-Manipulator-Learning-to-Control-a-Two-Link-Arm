{
 "cells": [
  {
   "cell_type": "code",
   "execution_count": 25,
   "metadata": {},
   "outputs": [],
   "source": [
    "from TwoLink_v0 import TwoLinkManipulatorEnv\n",
    "import tensorflow as tf\n",
    "from tensorflow.keras import Sequential\n",
    "from tensorflow.keras.layers import Dense\n",
    "import numpy as np\n",
    "import random\n",
    "from collections import deque\n",
    "from tensorflow.keras.optimizers import Adam\n"
   ]
  },
  {
   "cell_type": "code",
   "execution_count": 27,
   "metadata": {},
   "outputs": [
    {
     "name": "stdout",
     "output_type": "stream",
     "text": [
      "5 9 [0.8164 1.7509]\n"
     ]
    }
   ],
   "source": [
    "# Create the environment\n",
    "env = TwoLinkManipulatorEnv()  # Set rendering on\n",
    "state, _ = env.reset()\n",
    "\n",
    "\n",
    "# Environment parameters\n",
    "state_size = env.observation_space.shape[0]  # State space dimensions\n",
    "action_size = env.action_space.n  # Number of discrete actions\n",
    "goal_position = env.goal  # Target position (predefined in the environment)\n",
    "print (state_size, action_size, goal_position)"
   ]
  },
  {
   "cell_type": "code",
   "execution_count": 28,
   "metadata": {},
   "outputs": [],
   "source": [
    "\n",
    "# Hyperparameters\n",
    "num_episodes = 200\n",
    "max_steps_per_episode = 100\n",
    "gamma = 0.95  # Discount factor\n",
    "epsilon = 1.0  # Initial exploration rate\n",
    "epsilon_decay = 0.99\n",
    "epsilon_min = 0.01\n",
    "batch_size = 16\n",
    "target_update_frequency = 5  # Update target network every 5 episodes\n",
    "replay_buffer = deque(maxlen=10000)  # Experience replay buffer\n",
    "\n"
   ]
  },
  {
   "cell_type": "code",
   "execution_count": 29,
   "metadata": {},
   "outputs": [],
   "source": [
    "# Build the Q-network\n",
    "def build_model():\n",
    "    model = Sequential([\n",
    "        Dense(24, activation='relu', input_shape=(5,)),\n",
    "        Dense(24, activation='relu'),\n",
    "        Dense(action_size, activation='linear')  # Q-values for each action\n",
    "    ])\n",
    "    model.compile(optimizer = 'Adam', loss='mse')\n",
    "    return model\n"
   ]
  },
  {
   "cell_type": "code",
   "execution_count": 30,
   "metadata": {},
   "outputs": [
    {
     "data": {
      "text/html": [
       "<pre style=\"white-space:pre;overflow-x:auto;line-height:normal;font-family:Menlo,'DejaVu Sans Mono',consolas,'Courier New',monospace\"><span style=\"font-weight: bold\">Model: \"sequential_5\"</span>\n",
       "</pre>\n"
      ],
      "text/plain": [
       "\u001b[1mModel: \"sequential_5\"\u001b[0m\n"
      ]
     },
     "metadata": {},
     "output_type": "display_data"
    },
    {
     "data": {
      "text/html": [
       "<pre style=\"white-space:pre;overflow-x:auto;line-height:normal;font-family:Menlo,'DejaVu Sans Mono',consolas,'Courier New',monospace\">┏━━━━━━━━━━━━━━━━━━━━━━━━━━━━━━━━━┳━━━━━━━━━━━━━━━━━━━━━━━━┳━━━━━━━━━━━━━━━┓\n",
       "┃<span style=\"font-weight: bold\"> Layer (type)                    </span>┃<span style=\"font-weight: bold\"> Output Shape           </span>┃<span style=\"font-weight: bold\">       Param # </span>┃\n",
       "┡━━━━━━━━━━━━━━━━━━━━━━━━━━━━━━━━━╇━━━━━━━━━━━━━━━━━━━━━━━━╇━━━━━━━━━━━━━━━┩\n",
       "│ dense_15 (<span style=\"color: #0087ff; text-decoration-color: #0087ff\">Dense</span>)                │ (<span style=\"color: #00d7ff; text-decoration-color: #00d7ff\">None</span>, <span style=\"color: #00af00; text-decoration-color: #00af00\">24</span>)             │           <span style=\"color: #00af00; text-decoration-color: #00af00\">144</span> │\n",
       "├─────────────────────────────────┼────────────────────────┼───────────────┤\n",
       "│ dense_16 (<span style=\"color: #0087ff; text-decoration-color: #0087ff\">Dense</span>)                │ (<span style=\"color: #00d7ff; text-decoration-color: #00d7ff\">None</span>, <span style=\"color: #00af00; text-decoration-color: #00af00\">24</span>)             │           <span style=\"color: #00af00; text-decoration-color: #00af00\">600</span> │\n",
       "├─────────────────────────────────┼────────────────────────┼───────────────┤\n",
       "│ dense_17 (<span style=\"color: #0087ff; text-decoration-color: #0087ff\">Dense</span>)                │ (<span style=\"color: #00d7ff; text-decoration-color: #00d7ff\">None</span>, <span style=\"color: #00af00; text-decoration-color: #00af00\">9</span>)              │           <span style=\"color: #00af00; text-decoration-color: #00af00\">225</span> │\n",
       "└─────────────────────────────────┴────────────────────────┴───────────────┘\n",
       "</pre>\n"
      ],
      "text/plain": [
       "┏━━━━━━━━━━━━━━━━━━━━━━━━━━━━━━━━━┳━━━━━━━━━━━━━━━━━━━━━━━━┳━━━━━━━━━━━━━━━┓\n",
       "┃\u001b[1m \u001b[0m\u001b[1mLayer (type)                   \u001b[0m\u001b[1m \u001b[0m┃\u001b[1m \u001b[0m\u001b[1mOutput Shape          \u001b[0m\u001b[1m \u001b[0m┃\u001b[1m \u001b[0m\u001b[1m      Param #\u001b[0m\u001b[1m \u001b[0m┃\n",
       "┡━━━━━━━━━━━━━━━━━━━━━━━━━━━━━━━━━╇━━━━━━━━━━━━━━━━━━━━━━━━╇━━━━━━━━━━━━━━━┩\n",
       "│ dense_15 (\u001b[38;5;33mDense\u001b[0m)                │ (\u001b[38;5;45mNone\u001b[0m, \u001b[38;5;34m24\u001b[0m)             │           \u001b[38;5;34m144\u001b[0m │\n",
       "├─────────────────────────────────┼────────────────────────┼───────────────┤\n",
       "│ dense_16 (\u001b[38;5;33mDense\u001b[0m)                │ (\u001b[38;5;45mNone\u001b[0m, \u001b[38;5;34m24\u001b[0m)             │           \u001b[38;5;34m600\u001b[0m │\n",
       "├─────────────────────────────────┼────────────────────────┼───────────────┤\n",
       "│ dense_17 (\u001b[38;5;33mDense\u001b[0m)                │ (\u001b[38;5;45mNone\u001b[0m, \u001b[38;5;34m9\u001b[0m)              │           \u001b[38;5;34m225\u001b[0m │\n",
       "└─────────────────────────────────┴────────────────────────┴───────────────┘\n"
      ]
     },
     "metadata": {},
     "output_type": "display_data"
    },
    {
     "data": {
      "text/html": [
       "<pre style=\"white-space:pre;overflow-x:auto;line-height:normal;font-family:Menlo,'DejaVu Sans Mono',consolas,'Courier New',monospace\"><span style=\"font-weight: bold\"> Total params: </span><span style=\"color: #00af00; text-decoration-color: #00af00\">969</span> (3.79 KB)\n",
       "</pre>\n"
      ],
      "text/plain": [
       "\u001b[1m Total params: \u001b[0m\u001b[38;5;34m969\u001b[0m (3.79 KB)\n"
      ]
     },
     "metadata": {},
     "output_type": "display_data"
    },
    {
     "data": {
      "text/html": [
       "<pre style=\"white-space:pre;overflow-x:auto;line-height:normal;font-family:Menlo,'DejaVu Sans Mono',consolas,'Courier New',monospace\"><span style=\"font-weight: bold\"> Trainable params: </span><span style=\"color: #00af00; text-decoration-color: #00af00\">969</span> (3.79 KB)\n",
       "</pre>\n"
      ],
      "text/plain": [
       "\u001b[1m Trainable params: \u001b[0m\u001b[38;5;34m969\u001b[0m (3.79 KB)\n"
      ]
     },
     "metadata": {},
     "output_type": "display_data"
    },
    {
     "data": {
      "text/html": [
       "<pre style=\"white-space:pre;overflow-x:auto;line-height:normal;font-family:Menlo,'DejaVu Sans Mono',consolas,'Courier New',monospace\"><span style=\"font-weight: bold\"> Non-trainable params: </span><span style=\"color: #00af00; text-decoration-color: #00af00\">0</span> (0.00 B)\n",
       "</pre>\n"
      ],
      "text/plain": [
       "\u001b[1m Non-trainable params: \u001b[0m\u001b[38;5;34m0\u001b[0m (0.00 B)\n"
      ]
     },
     "metadata": {},
     "output_type": "display_data"
    },
    {
     "data": {
      "text/html": [
       "<pre style=\"white-space:pre;overflow-x:auto;line-height:normal;font-family:Menlo,'DejaVu Sans Mono',consolas,'Courier New',monospace\"><span style=\"font-weight: bold\">Model: \"sequential_6\"</span>\n",
       "</pre>\n"
      ],
      "text/plain": [
       "\u001b[1mModel: \"sequential_6\"\u001b[0m\n"
      ]
     },
     "metadata": {},
     "output_type": "display_data"
    },
    {
     "data": {
      "text/html": [
       "<pre style=\"white-space:pre;overflow-x:auto;line-height:normal;font-family:Menlo,'DejaVu Sans Mono',consolas,'Courier New',monospace\">┏━━━━━━━━━━━━━━━━━━━━━━━━━━━━━━━━━┳━━━━━━━━━━━━━━━━━━━━━━━━┳━━━━━━━━━━━━━━━┓\n",
       "┃<span style=\"font-weight: bold\"> Layer (type)                    </span>┃<span style=\"font-weight: bold\"> Output Shape           </span>┃<span style=\"font-weight: bold\">       Param # </span>┃\n",
       "┡━━━━━━━━━━━━━━━━━━━━━━━━━━━━━━━━━╇━━━━━━━━━━━━━━━━━━━━━━━━╇━━━━━━━━━━━━━━━┩\n",
       "│ dense_18 (<span style=\"color: #0087ff; text-decoration-color: #0087ff\">Dense</span>)                │ (<span style=\"color: #00d7ff; text-decoration-color: #00d7ff\">None</span>, <span style=\"color: #00af00; text-decoration-color: #00af00\">24</span>)             │           <span style=\"color: #00af00; text-decoration-color: #00af00\">144</span> │\n",
       "├─────────────────────────────────┼────────────────────────┼───────────────┤\n",
       "│ dense_19 (<span style=\"color: #0087ff; text-decoration-color: #0087ff\">Dense</span>)                │ (<span style=\"color: #00d7ff; text-decoration-color: #00d7ff\">None</span>, <span style=\"color: #00af00; text-decoration-color: #00af00\">24</span>)             │           <span style=\"color: #00af00; text-decoration-color: #00af00\">600</span> │\n",
       "├─────────────────────────────────┼────────────────────────┼───────────────┤\n",
       "│ dense_20 (<span style=\"color: #0087ff; text-decoration-color: #0087ff\">Dense</span>)                │ (<span style=\"color: #00d7ff; text-decoration-color: #00d7ff\">None</span>, <span style=\"color: #00af00; text-decoration-color: #00af00\">9</span>)              │           <span style=\"color: #00af00; text-decoration-color: #00af00\">225</span> │\n",
       "└─────────────────────────────────┴────────────────────────┴───────────────┘\n",
       "</pre>\n"
      ],
      "text/plain": [
       "┏━━━━━━━━━━━━━━━━━━━━━━━━━━━━━━━━━┳━━━━━━━━━━━━━━━━━━━━━━━━┳━━━━━━━━━━━━━━━┓\n",
       "┃\u001b[1m \u001b[0m\u001b[1mLayer (type)                   \u001b[0m\u001b[1m \u001b[0m┃\u001b[1m \u001b[0m\u001b[1mOutput Shape          \u001b[0m\u001b[1m \u001b[0m┃\u001b[1m \u001b[0m\u001b[1m      Param #\u001b[0m\u001b[1m \u001b[0m┃\n",
       "┡━━━━━━━━━━━━━━━━━━━━━━━━━━━━━━━━━╇━━━━━━━━━━━━━━━━━━━━━━━━╇━━━━━━━━━━━━━━━┩\n",
       "│ dense_18 (\u001b[38;5;33mDense\u001b[0m)                │ (\u001b[38;5;45mNone\u001b[0m, \u001b[38;5;34m24\u001b[0m)             │           \u001b[38;5;34m144\u001b[0m │\n",
       "├─────────────────────────────────┼────────────────────────┼───────────────┤\n",
       "│ dense_19 (\u001b[38;5;33mDense\u001b[0m)                │ (\u001b[38;5;45mNone\u001b[0m, \u001b[38;5;34m24\u001b[0m)             │           \u001b[38;5;34m600\u001b[0m │\n",
       "├─────────────────────────────────┼────────────────────────┼───────────────┤\n",
       "│ dense_20 (\u001b[38;5;33mDense\u001b[0m)                │ (\u001b[38;5;45mNone\u001b[0m, \u001b[38;5;34m9\u001b[0m)              │           \u001b[38;5;34m225\u001b[0m │\n",
       "└─────────────────────────────────┴────────────────────────┴───────────────┘\n"
      ]
     },
     "metadata": {},
     "output_type": "display_data"
    },
    {
     "data": {
      "text/html": [
       "<pre style=\"white-space:pre;overflow-x:auto;line-height:normal;font-family:Menlo,'DejaVu Sans Mono',consolas,'Courier New',monospace\"><span style=\"font-weight: bold\"> Total params: </span><span style=\"color: #00af00; text-decoration-color: #00af00\">969</span> (3.79 KB)\n",
       "</pre>\n"
      ],
      "text/plain": [
       "\u001b[1m Total params: \u001b[0m\u001b[38;5;34m969\u001b[0m (3.79 KB)\n"
      ]
     },
     "metadata": {},
     "output_type": "display_data"
    },
    {
     "data": {
      "text/html": [
       "<pre style=\"white-space:pre;overflow-x:auto;line-height:normal;font-family:Menlo,'DejaVu Sans Mono',consolas,'Courier New',monospace\"><span style=\"font-weight: bold\"> Trainable params: </span><span style=\"color: #00af00; text-decoration-color: #00af00\">969</span> (3.79 KB)\n",
       "</pre>\n"
      ],
      "text/plain": [
       "\u001b[1m Trainable params: \u001b[0m\u001b[38;5;34m969\u001b[0m (3.79 KB)\n"
      ]
     },
     "metadata": {},
     "output_type": "display_data"
    },
    {
     "data": {
      "text/html": [
       "<pre style=\"white-space:pre;overflow-x:auto;line-height:normal;font-family:Menlo,'DejaVu Sans Mono',consolas,'Courier New',monospace\"><span style=\"font-weight: bold\"> Non-trainable params: </span><span style=\"color: #00af00; text-decoration-color: #00af00\">0</span> (0.00 B)\n",
       "</pre>\n"
      ],
      "text/plain": [
       "\u001b[1m Non-trainable params: \u001b[0m\u001b[38;5;34m0\u001b[0m (0.00 B)\n"
      ]
     },
     "metadata": {},
     "output_type": "display_data"
    }
   ],
   "source": [
    "success = []\n",
    "Reward = []\n",
    "# Instantiate main and target models\n",
    "main_model = build_model()\n",
    "target_model = build_model()\n",
    "target_model.set_weights(main_model.get_weights())  # Initialize target model weights\n",
    "main_model.summary()\n",
    "target_model.summary()"
   ]
  },
  {
   "cell_type": "code",
   "execution_count": 31,
   "metadata": {},
   "outputs": [
    {
     "name": "stdout",
     "output_type": "stream",
     "text": [
      "Episode 1/200, Total Reward: -170.89, Steps: 100, Epsilon: 1.00\n",
      "Episode 2/200, Total Reward: 43.66, Steps: 61, Epsilon: 1.00\n",
      "Episode 3/200, Total Reward: -182.51, Steps: 100, Epsilon: 1.00\n",
      "Episode 4/200, Total Reward: -215.17, Steps: 100, Epsilon: 1.00\n",
      "Episode 5/200, Total Reward: -189.38, Steps: 100, Epsilon: 1.00\n",
      "Episode 6/200, Total Reward: -179.05, Steps: 100, Epsilon: 1.00\n",
      "Episode 7/200, Total Reward: -137.07, Steps: 100, Epsilon: 1.00\n",
      "Episode 8/200, Total Reward: -114.99, Steps: 100, Epsilon: 1.00\n",
      "Episode 9/200, Total Reward: -108.63, Steps: 100, Epsilon: 1.00\n",
      "Episode 10/200, Total Reward: -100.05, Steps: 100, Epsilon: 1.00\n",
      "Episode 11/200, Total Reward: -93.04, Steps: 100, Epsilon: 1.00\n",
      "Episode 12/200, Total Reward: -86.00, Steps: 100, Epsilon: 1.00\n",
      "Episode 13/200, Total Reward: -79.06, Steps: 100, Epsilon: 1.00\n",
      "Episode 14/200, Total Reward: -64.16, Steps: 100, Epsilon: 1.00\n",
      "Episode 15/200, Total Reward: 93.60, Steps: 9, Epsilon: 1.00\n",
      "Episode 16/200, Total Reward: 93.60, Steps: 9, Epsilon: 1.00\n",
      "Episode 17/200, Total Reward: -82.21, Steps: 100, Epsilon: 1.00\n",
      "Episode 18/200, Total Reward: -67.20, Steps: 100, Epsilon: 1.00\n",
      "Episode 19/200, Total Reward: -65.74, Steps: 100, Epsilon: 1.00\n",
      "Episode 20/200, Total Reward: -59.14, Steps: 100, Epsilon: 1.00\n",
      "Episode 21/200, Total Reward: 95.39, Steps: 7, Epsilon: 1.00\n",
      "Episode 22/200, Total Reward: 95.39, Steps: 7, Epsilon: 1.00\n",
      "Episode 23/200, Total Reward: 95.39, Steps: 7, Epsilon: 1.00\n",
      "Episode 24/200, Total Reward: 95.39, Steps: 7, Epsilon: 1.00\n",
      "Episode 25/200, Total Reward: 95.39, Steps: 7, Epsilon: 1.00\n",
      "Episode 26/200, Total Reward: 95.39, Steps: 7, Epsilon: 1.00\n",
      "Episode 27/200, Total Reward: 95.39, Steps: 7, Epsilon: 1.00\n",
      "Episode 28/200, Total Reward: 95.39, Steps: 7, Epsilon: 1.00\n",
      "Episode 29/200, Total Reward: -44.56, Steps: 100, Epsilon: 1.00\n",
      "Episode 30/200, Total Reward: 95.39, Steps: 7, Epsilon: 1.00\n",
      "Episode 31/200, Total Reward: 95.39, Steps: 7, Epsilon: 1.00\n",
      "Episode 32/200, Total Reward: 95.39, Steps: 7, Epsilon: 1.00\n",
      "Episode 33/200, Total Reward: -43.45, Steps: 100, Epsilon: 1.00\n",
      "Episode 34/200, Total Reward: 95.39, Steps: 7, Epsilon: 1.00\n",
      "Episode 35/200, Total Reward: 95.39, Steps: 7, Epsilon: 1.00\n",
      "Episode 36/200, Total Reward: 95.39, Steps: 7, Epsilon: 1.00\n",
      "Episode 37/200, Total Reward: 95.39, Steps: 7, Epsilon: 1.00\n",
      "Episode 38/200, Total Reward: 95.39, Steps: 7, Epsilon: 1.00\n",
      "Episode 39/200, Total Reward: 95.39, Steps: 7, Epsilon: 1.00\n",
      "Episode 40/200, Total Reward: 95.39, Steps: 7, Epsilon: 1.00\n",
      "Episode 41/200, Total Reward: 95.39, Steps: 7, Epsilon: 1.00\n",
      "Episode 42/200, Total Reward: 95.39, Steps: 7, Epsilon: 1.00\n",
      "Episode 43/200, Total Reward: 95.39, Steps: 7, Epsilon: 1.00\n",
      "Episode 44/200, Total Reward: 95.39, Steps: 7, Epsilon: 1.00\n",
      "Episode 45/200, Total Reward: 95.39, Steps: 7, Epsilon: 1.00\n",
      "Episode 46/200, Total Reward: 95.39, Steps: 7, Epsilon: 1.00\n",
      "Episode 47/200, Total Reward: -57.11, Steps: 100, Epsilon: 1.00\n",
      "Episode 48/200, Total Reward: 95.39, Steps: 7, Epsilon: 1.00\n",
      "Episode 49/200, Total Reward: 95.39, Steps: 7, Epsilon: 1.00\n",
      "Episode 50/200, Total Reward: 95.39, Steps: 7, Epsilon: 1.00\n",
      "Episode 51/200, Total Reward: 95.39, Steps: 7, Epsilon: 1.00\n",
      "Episode 52/200, Total Reward: 95.39, Steps: 7, Epsilon: 1.00\n",
      "Episode 53/200, Total Reward: 95.39, Steps: 7, Epsilon: 1.00\n",
      "Episode 54/200, Total Reward: 95.39, Steps: 7, Epsilon: 1.00\n",
      "Episode 55/200, Total Reward: 95.39, Steps: 7, Epsilon: 1.00\n",
      "Episode 56/200, Total Reward: 95.39, Steps: 7, Epsilon: 1.00\n",
      "Episode 57/200, Total Reward: 95.39, Steps: 7, Epsilon: 1.00\n",
      "Episode 58/200, Total Reward: 95.39, Steps: 7, Epsilon: 1.00\n",
      "Episode 59/200, Total Reward: 95.39, Steps: 7, Epsilon: 1.00\n",
      "Episode 60/200, Total Reward: 95.39, Steps: 7, Epsilon: 1.00\n",
      "Episode 61/200, Total Reward: 95.39, Steps: 7, Epsilon: 1.00\n",
      "Episode 62/200, Total Reward: 95.39, Steps: 7, Epsilon: 1.00\n",
      "Episode 63/200, Total Reward: 95.39, Steps: 7, Epsilon: 1.00\n",
      "Episode 64/200, Total Reward: 95.39, Steps: 7, Epsilon: 1.00\n",
      "Episode 65/200, Total Reward: 95.39, Steps: 7, Epsilon: 1.00\n",
      "Episode 66/200, Total Reward: 95.39, Steps: 7, Epsilon: 1.00\n",
      "Episode 67/200, Total Reward: 95.39, Steps: 7, Epsilon: 1.00\n",
      "Episode 68/200, Total Reward: 95.39, Steps: 7, Epsilon: 1.00\n",
      "Episode 69/200, Total Reward: 95.39, Steps: 7, Epsilon: 1.00\n",
      "Episode 70/200, Total Reward: 95.39, Steps: 7, Epsilon: 1.00\n",
      "Episode 71/200, Total Reward: 95.39, Steps: 7, Epsilon: 1.00\n",
      "Episode 72/200, Total Reward: 95.39, Steps: 7, Epsilon: 1.00\n",
      "Episode 73/200, Total Reward: 96.32, Steps: 5, Epsilon: 1.00\n",
      "Episode 74/200, Total Reward: 96.32, Steps: 5, Epsilon: 1.00\n",
      "Episode 75/200, Total Reward: 96.32, Steps: 5, Epsilon: 1.00\n",
      "Episode 76/200, Total Reward: 96.32, Steps: 5, Epsilon: 1.00\n",
      "Episode 77/200, Total Reward: 96.32, Steps: 5, Epsilon: 1.00\n",
      "Episode 78/200, Total Reward: 96.32, Steps: 5, Epsilon: 1.00\n",
      "Episode 79/200, Total Reward: 96.32, Steps: 5, Epsilon: 1.00\n",
      "Episode 80/200, Total Reward: 96.32, Steps: 5, Epsilon: 1.00\n",
      "Episode 81/200, Total Reward: 96.32, Steps: 5, Epsilon: 1.00\n",
      "Episode 82/200, Total Reward: -189.09, Steps: 100, Epsilon: 1.00\n",
      "Episode 83/200, Total Reward: 96.32, Steps: 5, Epsilon: 1.00\n",
      "Episode 84/200, Total Reward: 96.32, Steps: 5, Epsilon: 1.00\n",
      "Episode 85/200, Total Reward: 96.32, Steps: 5, Epsilon: 1.00\n",
      "Episode 86/200, Total Reward: 96.32, Steps: 5, Epsilon: 1.00\n",
      "Episode 87/200, Total Reward: 96.32, Steps: 5, Epsilon: 1.00\n",
      "Episode 88/200, Total Reward: 96.32, Steps: 5, Epsilon: 1.00\n",
      "Episode 89/200, Total Reward: 95.39, Steps: 7, Epsilon: 1.00\n",
      "Episode 90/200, Total Reward: 95.39, Steps: 7, Epsilon: 1.00\n",
      "Episode 91/200, Total Reward: 96.32, Steps: 5, Epsilon: 1.00\n",
      "Episode 92/200, Total Reward: 96.32, Steps: 5, Epsilon: 1.00\n",
      "Episode 93/200, Total Reward: 96.32, Steps: 5, Epsilon: 1.00\n",
      "Episode 94/200, Total Reward: 96.32, Steps: 5, Epsilon: 1.00\n",
      "Episode 95/200, Total Reward: 96.32, Steps: 5, Epsilon: 1.00\n",
      "Episode 96/200, Total Reward: 96.32, Steps: 5, Epsilon: 1.00\n",
      "Episode 97/200, Total Reward: 95.39, Steps: 7, Epsilon: 1.00\n",
      "Episode 98/200, Total Reward: 96.32, Steps: 5, Epsilon: 1.00\n",
      "Episode 99/200, Total Reward: 96.32, Steps: 5, Epsilon: 1.00\n",
      "Episode 100/200, Total Reward: 95.39, Steps: 7, Epsilon: 1.00\n",
      "Episode 101/200, Total Reward: 95.39, Steps: 7, Epsilon: 1.00\n",
      "Episode 102/200, Total Reward: 95.39, Steps: 7, Epsilon: 1.00\n",
      "Episode 103/200, Total Reward: 95.39, Steps: 7, Epsilon: 1.00\n",
      "Episode 104/200, Total Reward: 95.39, Steps: 7, Epsilon: 1.00\n",
      "Episode 105/200, Total Reward: 95.39, Steps: 7, Epsilon: 1.00\n",
      "Episode 106/200, Total Reward: 95.39, Steps: 7, Epsilon: 1.00\n",
      "Episode 107/200, Total Reward: 95.39, Steps: 7, Epsilon: 1.00\n",
      "Episode 108/200, Total Reward: 95.39, Steps: 7, Epsilon: 1.00\n",
      "Episode 109/200, Total Reward: 95.39, Steps: 7, Epsilon: 1.00\n",
      "Episode 110/200, Total Reward: 95.39, Steps: 7, Epsilon: 1.00\n",
      "Episode 111/200, Total Reward: 95.39, Steps: 7, Epsilon: 1.00\n",
      "Episode 112/200, Total Reward: 95.39, Steps: 7, Epsilon: 1.00\n",
      "Episode 113/200, Total Reward: 95.39, Steps: 7, Epsilon: 1.00\n",
      "Episode 114/200, Total Reward: 95.39, Steps: 7, Epsilon: 1.00\n",
      "Episode 115/200, Total Reward: 95.39, Steps: 7, Epsilon: 1.00\n",
      "Episode 116/200, Total Reward: 95.39, Steps: 7, Epsilon: 1.00\n",
      "Episode 117/200, Total Reward: 95.42, Steps: 7, Epsilon: 1.00\n",
      "Episode 118/200, Total Reward: 95.42, Steps: 7, Epsilon: 1.00\n",
      "Episode 119/200, Total Reward: 95.42, Steps: 7, Epsilon: 1.00\n",
      "Episode 120/200, Total Reward: 95.42, Steps: 7, Epsilon: 1.00\n",
      "Episode 121/200, Total Reward: 95.39, Steps: 7, Epsilon: 1.00\n",
      "Episode 122/200, Total Reward: 95.39, Steps: 7, Epsilon: 1.00\n",
      "Episode 123/200, Total Reward: 95.39, Steps: 7, Epsilon: 1.00\n",
      "Episode 124/200, Total Reward: 95.39, Steps: 7, Epsilon: 1.00\n",
      "Episode 125/200, Total Reward: 95.42, Steps: 7, Epsilon: 1.00\n",
      "Episode 126/200, Total Reward: 95.42, Steps: 7, Epsilon: 1.00\n",
      "Episode 127/200, Total Reward: 95.39, Steps: 7, Epsilon: 1.00\n",
      "Episode 128/200, Total Reward: 95.39, Steps: 7, Epsilon: 1.00\n",
      "Episode 129/200, Total Reward: 95.39, Steps: 7, Epsilon: 1.00\n",
      "Episode 130/200, Total Reward: 95.42, Steps: 7, Epsilon: 1.00\n",
      "Episode 131/200, Total Reward: 95.42, Steps: 7, Epsilon: 1.00\n",
      "Episode 132/200, Total Reward: 95.42, Steps: 7, Epsilon: 1.00\n",
      "Episode 133/200, Total Reward: 95.42, Steps: 7, Epsilon: 1.00\n",
      "Episode 134/200, Total Reward: 95.39, Steps: 7, Epsilon: 1.00\n",
      "Episode 135/200, Total Reward: 95.39, Steps: 7, Epsilon: 1.00\n",
      "Episode 136/200, Total Reward: 95.39, Steps: 7, Epsilon: 1.00\n",
      "Episode 137/200, Total Reward: 95.39, Steps: 7, Epsilon: 1.00\n",
      "Episode 138/200, Total Reward: 95.39, Steps: 7, Epsilon: 1.00\n",
      "Episode 139/200, Total Reward: 95.39, Steps: 7, Epsilon: 1.00\n",
      "Episode 140/200, Total Reward: 95.39, Steps: 7, Epsilon: 1.00\n",
      "Episode 141/200, Total Reward: 95.39, Steps: 7, Epsilon: 1.00\n",
      "Episode 142/200, Total Reward: 95.39, Steps: 7, Epsilon: 1.00\n",
      "Episode 143/200, Total Reward: 95.39, Steps: 7, Epsilon: 1.00\n",
      "Episode 144/200, Total Reward: 95.39, Steps: 7, Epsilon: 1.00\n",
      "Episode 145/200, Total Reward: 95.39, Steps: 7, Epsilon: 1.00\n",
      "Episode 146/200, Total Reward: 95.39, Steps: 7, Epsilon: 1.00\n",
      "Episode 147/200, Total Reward: 95.39, Steps: 7, Epsilon: 1.00\n",
      "Episode 148/200, Total Reward: 95.42, Steps: 7, Epsilon: 1.00\n",
      "Episode 149/200, Total Reward: 95.42, Steps: 7, Epsilon: 1.00\n",
      "Episode 150/200, Total Reward: 95.39, Steps: 7, Epsilon: 1.00\n",
      "Episode 151/200, Total Reward: 95.39, Steps: 7, Epsilon: 1.00\n",
      "Episode 152/200, Total Reward: 95.39, Steps: 7, Epsilon: 1.00\n",
      "Episode 153/200, Total Reward: 95.39, Steps: 7, Epsilon: 1.00\n",
      "Episode 154/200, Total Reward: 95.39, Steps: 7, Epsilon: 1.00\n",
      "Episode 155/200, Total Reward: 95.39, Steps: 7, Epsilon: 1.00\n",
      "Episode 156/200, Total Reward: 95.39, Steps: 7, Epsilon: 1.00\n",
      "Episode 157/200, Total Reward: 95.42, Steps: 7, Epsilon: 1.00\n",
      "Episode 158/200, Total Reward: 95.42, Steps: 7, Epsilon: 1.00\n",
      "Episode 159/200, Total Reward: 95.39, Steps: 7, Epsilon: 1.00\n",
      "Episode 160/200, Total Reward: 95.39, Steps: 7, Epsilon: 1.00\n",
      "Episode 161/200, Total Reward: 95.39, Steps: 7, Epsilon: 1.00\n",
      "Episode 162/200, Total Reward: 95.39, Steps: 7, Epsilon: 1.00\n",
      "Episode 163/200, Total Reward: 95.39, Steps: 7, Epsilon: 1.00\n",
      "Episode 164/200, Total Reward: 95.39, Steps: 7, Epsilon: 1.00\n",
      "Episode 165/200, Total Reward: 95.39, Steps: 7, Epsilon: 1.00\n",
      "Episode 166/200, Total Reward: 95.39, Steps: 7, Epsilon: 1.00\n",
      "Episode 167/200, Total Reward: 95.39, Steps: 7, Epsilon: 1.00\n",
      "Episode 168/200, Total Reward: 95.39, Steps: 7, Epsilon: 1.00\n",
      "Episode 169/200, Total Reward: 95.39, Steps: 7, Epsilon: 1.00\n",
      "Episode 170/200, Total Reward: 95.39, Steps: 7, Epsilon: 1.00\n",
      "Episode 171/200, Total Reward: 95.39, Steps: 7, Epsilon: 1.00\n",
      "Episode 172/200, Total Reward: 95.39, Steps: 7, Epsilon: 1.00\n",
      "Episode 173/200, Total Reward: 95.39, Steps: 7, Epsilon: 1.00\n",
      "Episode 174/200, Total Reward: 95.39, Steps: 7, Epsilon: 1.00\n",
      "Episode 175/200, Total Reward: 95.39, Steps: 7, Epsilon: 1.00\n",
      "Episode 176/200, Total Reward: 95.39, Steps: 7, Epsilon: 1.00\n",
      "Episode 177/200, Total Reward: 95.39, Steps: 7, Epsilon: 1.00\n",
      "Episode 178/200, Total Reward: 95.42, Steps: 7, Epsilon: 1.00\n",
      "Episode 179/200, Total Reward: 95.42, Steps: 7, Epsilon: 1.00\n",
      "Episode 180/200, Total Reward: 95.42, Steps: 7, Epsilon: 1.00\n",
      "Episode 181/200, Total Reward: 95.42, Steps: 7, Epsilon: 1.00\n",
      "Episode 182/200, Total Reward: 96.32, Steps: 5, Epsilon: 1.00\n",
      "Episode 183/200, Total Reward: 96.32, Steps: 5, Epsilon: 1.00\n",
      "Episode 184/200, Total Reward: 96.32, Steps: 5, Epsilon: 1.00\n",
      "Episode 185/200, Total Reward: 96.32, Steps: 5, Epsilon: 1.00\n",
      "Episode 186/200, Total Reward: 96.32, Steps: 5, Epsilon: 1.00\n",
      "Episode 187/200, Total Reward: 95.42, Steps: 7, Epsilon: 1.00\n",
      "Episode 188/200, Total Reward: 95.42, Steps: 7, Epsilon: 1.00\n",
      "Episode 189/200, Total Reward: 95.42, Steps: 7, Epsilon: 1.00\n",
      "Episode 190/200, Total Reward: 96.32, Steps: 5, Epsilon: 1.00\n",
      "Episode 191/200, Total Reward: 96.32, Steps: 5, Epsilon: 1.00\n",
      "Episode 192/200, Total Reward: 96.32, Steps: 5, Epsilon: 1.00\n",
      "Episode 193/200, Total Reward: 96.32, Steps: 5, Epsilon: 1.00\n",
      "Episode 194/200, Total Reward: 96.32, Steps: 5, Epsilon: 1.00\n",
      "Episode 195/200, Total Reward: 96.32, Steps: 5, Epsilon: 1.00\n",
      "Episode 196/200, Total Reward: 96.32, Steps: 5, Epsilon: 1.00\n",
      "Episode 197/200, Total Reward: 96.32, Steps: 5, Epsilon: 1.00\n",
      "Episode 198/200, Total Reward: 96.32, Steps: 5, Epsilon: 1.00\n",
      "Episode 199/200, Total Reward: 96.32, Steps: 5, Epsilon: 1.00\n",
      "Episode 200/200, Total Reward: 96.32, Steps: 5, Epsilon: 1.00\n"
     ]
    }
   ],
   "source": [
    "\n",
    "# Training loop\n",
    "for episode in range(num_episodes):\n",
    "    state, _ = env.reset()  # Reset environment and get initial state\n",
    "    state = np.reshape(state, [1, state_size])\n",
    "    total_reward = 0\n",
    "    done = False\n",
    "    time_step = 0\n",
    "\n",
    "    while not done and time_step < 100:\n",
    "        # Epsilon-greedy action selection\n",
    "        action = np.argmax(main_model.predict(state, verbose=0))  # Exploit learned policy\n",
    "\n",
    "        # Take the selected action\n",
    "        next_state, reward, done, _, _ = env.step(action)\n",
    "        next_state = np.reshape(next_state, [1, state_size])\n",
    "\n",
    "        # Store experience in replay buffer\n",
    "        replay_buffer.append((state, action, reward, next_state, done))\n",
    "\n",
    "        # Update state and accumulate reward\n",
    "        state = next_state\n",
    "        total_reward += reward\n",
    "        time_step += 1\n",
    "                \n",
    "        # Perform experience replay if replay buffer has enough samples\n",
    "        if len(replay_buffer) >= batch_size:\n",
    "            batch = random.sample(replay_buffer, batch_size)\n",
    "            batch_state, batch_action, batch_reward, batch_next_state, batch_done = zip(*batch)\n",
    "\n",
    "            batch_state = np.vstack(batch_state)\n",
    "            batch_next_state = np.vstack(batch_next_state)\n",
    "\n",
    "            # Predict Q-values for current and next states\n",
    "            target = main_model.predict(batch_state, verbose=0)\n",
    "            target_next = target_model.predict(batch_next_state, verbose=0)\n",
    "\n",
    "            # Update Q-values using the Bellman equation\n",
    "            for i in range(batch_size):\n",
    "                if batch_done[i]:\n",
    "                    target[i][batch_action[i]] = batch_reward[i]\n",
    "                else:\n",
    "                    target[i][batch_action[i]] = batch_reward[i] + gamma * np.amax(target_next[i])\n",
    "\n",
    "            # Train the main model\n",
    "            main_model.fit(batch_state, target, batch_size=batch_size, verbose=0)\n",
    "\n",
    "    # Update target model periodically\n",
    "    if (episode + 1) % target_update_frequency == 0:\n",
    "        target_model.set_weights(main_model.get_weights())\n",
    "\n",
    "    # Decay exploration rate\n",
    "    #epsilon = max(epsilon_min, epsilon * epsilon_decay)\n",
    "\n",
    "    # Log progress\n",
    "    print(f\"Episode {episode + 1}/{num_episodes}, Total Reward: {total_reward:.2f}, Steps: {time_step}, Epsilon: {epsilon:.2f}\")\n",
    "    if time_step == 100:\n",
    "        success.append(0)\n",
    "    else:\n",
    "        success.append(1)\n",
    "    Reward.append(total_reward)\n",
    "\n",
    "# Close the environment\n",
    "env.close()\n"
   ]
  },
  {
   "cell_type": "code",
   "execution_count": 32,
   "metadata": {},
   "outputs": [
    {
     "data": {
      "image/png": "[encoded data removed]",
      "text/plain": [
       "<Figure size 1200x600 with 2 Axes>"
      ]
     },
     "metadata": {},
     "output_type": "display_data"
    }
   ],
   "source": [
    "import matplotlib.pyplot as plt\n",
    "\n",
    "# Plot results\n",
    "plt.figure(figsize=(12, 6))\n",
    "\n",
    "# Plot success/failure\n",
    "plt.subplot(2, 1, 1)\n",
    "plt.plot(success, marker='o', linestyle='-', color='green', label=\"Success (1) / Failure (0)\")\n",
    "plt.xlabel(\"Episode\")\n",
    "plt.ylabel(\"Success (1) / Failure (0)\")\n",
    "plt.title(\"Episode Success or Failure\")\n",
    "plt.legend()\n",
    "\n",
    "# Plot total reward\n",
    "plt.subplot(2, 1, 2)\n",
    "plt.plot(Reward, marker='o', linestyle='-', color='blue', label=\"Total Reward\")\n",
    "plt.xlabel(\"Episode\")\n",
    "plt.ylabel(\"Total Reward\")\n",
    "plt.title(\"Total Reward per Episode\")\n",
    "plt.legend()\n",
    "\n",
    "plt.tight_layout()\n",
    "plt.show()"
   ]
  },
  {
   "cell_type": "code",
   "execution_count": 35,
   "metadata": {},
   "outputs": [],
   "source": [
    "main_model.save('two_link_dqn.keras')"
   ]
  },
  {
   "cell_type": "code",
   "execution_count": 34,
   "metadata": {},
   "outputs": [
    {
     "name": "stdout",
     "output_type": "stream",
     "text": [
      "\n",
      "Testing the Trained Model...\n",
      "\n",
      "Episode 1/10, Total Reward: 96.32, Steps: 5\n",
      "Episode 2/10, Total Reward: 96.32, Steps: 5\n",
      "Episode 3/10, Total Reward: 96.32, Steps: 5\n",
      "Episode 4/10, Total Reward: 96.32, Steps: 5\n",
      "Episode 5/10, Total Reward: 96.32, Steps: 5\n",
      "Episode 6/10, Total Reward: 96.32, Steps: 5\n",
      "Episode 7/10, Total Reward: 96.32, Steps: 5\n",
      "Episode 8/10, Total Reward: 96.32, Steps: 5\n",
      "Episode 9/10, Total Reward: 96.32, Steps: 5\n",
      "Episode 10/10, Total Reward: 96.32, Steps: 5\n",
      "\n",
      "Test Summary:\n",
      "Success Rate: 100.00%\n",
      "Average Reward: 96.32\n",
      "Successful Episodes: 10/10\n"
     ]
    }
   ],
   "source": [
    "# Testing the trained model\n",
    "test_episodes = 10  # Number of episodes to test\n",
    "successful_episodes = 0\n",
    "total_rewards = []\n",
    "\n",
    "print(\"\\nTesting the Trained Model...\\n\")\n",
    "\n",
    "for episode in range(test_episodes):\n",
    "    state, _ = env.reset()\n",
    "    state = np.reshape(state, [1, state_size])\n",
    "    total_reward = 0\n",
    "    done = False\n",
    "    time_step = 0\n",
    "\n",
    "    while not done and time_step < 100:  # Limit steps to avoid infinite loops\n",
    "        # Select action greedily\n",
    "        action = np.argmax(main_model.predict(state, verbose=0))\n",
    "\n",
    "        # Take the action in the environment\n",
    "        next_state, reward, done, _, _ = env.step(action)\n",
    "        next_state = np.reshape(next_state, [1, state_size])\n",
    "\n",
    "        # Update state and accumulate reward\n",
    "        state = next_state\n",
    "        total_reward += reward\n",
    "        time_step += 1\n",
    "\n",
    "    # Check if the episode was successful (goal reached)\n",
    "    if done and time_step < 100:\n",
    "        successful_episodes += 1\n",
    "\n",
    "    # Log the total reward for this episode\n",
    "    total_rewards.append(total_reward)\n",
    "    print(f\"Episode {episode + 1}/{test_episodes}, Total Reward: {total_reward:.2f}, Steps: {time_step}\")\n",
    "\n",
    "# Summary of test results\n",
    "success_rate = (successful_episodes / test_episodes) * 100\n",
    "average_reward = np.mean(total_rewards)\n",
    "\n",
    "print(\"\\nTest Summary:\")\n",
    "print(f\"Success Rate: {success_rate:.2f}%\")\n",
    "print(f\"Average Reward: {average_reward:.2f}\")\n",
    "print(f\"Successful Episodes: {successful_episodes}/{test_episodes}\")\n"
   ]
  }
 ],
 "metadata": {
  "kernelspec": {
   "display_name": "Python 3",
   "language": "python",
   "name": "python3"
  },
  "language_info": {
   "codemirror_mode": {
    "name": "ipython",
    "version": 3
   },
   "file_extension": ".py",
   "mimetype": "text/x-python",
   "name": "python",
   "nbconvert_exporter": "python",
   "pygments_lexer": "ipython3",
   "version": "3.12.7"
  }
 },
 "nbformat": 4,
 "nbformat_minor": 2
}
